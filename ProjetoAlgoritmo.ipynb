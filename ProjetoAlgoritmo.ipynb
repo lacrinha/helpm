{
  "cells": [
    {
      "metadata": {
        "collapsed": true
      },
      "cell_type": "markdown",
      "source": "<h1><strong> Acolhimento na Saude Mental da Seguranca Publica </strong></h1>\n\n Pensando no atual problema da condição de saúde mental dos servidores da segurança pública nacional, idealizou-se a necessidade de criar uma união entre tecnologia e sociedade. O intuito é oferecer um atendimento acolhedor aos funcionários \ncom a finalidade de diminuir o estresse, lidar com os transtornos cada vez mais tangíveis na profissão visando um trabalho mais humanizado. \n\tSendo assim, vamos integrar o cadastro dos usuários com o Conselho Regional de Psicologia (CRP).\n<hr>\n<h2><strong>Escopo</strong></h2>\n\nParar garantir o acesso dos usuários ao projeto o programa contará com um banco de dados para poder rastrear Psicólogos e pacientes por região para aumentar o nível de acessibilidade a uma boa saúde mental.\n\n\n<hr><br>\n"
    },
    {
      "metadata": {
        "trusted": true
      },
      "cell_type": "code",
      "source": "\npacientes=[{'Nome': 'Joao', 'Telefone': '111111111', 'Bairro': 'Bicanga', 'Senha': '111'}, {'Nome': 'Paulo', 'Telefone': '222222222', 'Bairro': 'Manguinhos', 'Senha': '222'}]\npsicologos=[{'Nome': 'Miguel', 'Telefone': '333333333', 'Bairro': 'Manguinhos', 'Senha': '333'}, {'Nome': 'Gabriel', 'Telefone': '444444444', 'Bairro': 'Bicanga', 'Senha': '444'}]\n\npaciente={}\npsicologo={}\n\nmenu = '0'\n\nwhile menu != '5':\n\n    menu = input(\n        '''\n                         HelPM\n                      Saúde Mental\n    \n        1. Cadastro de Paciente.\n        2. Cadastro de Psicólogo.\n        3. Visualizar Pacientes.\n        4. Visualizar Psicólogos.\n        5. Sair.\n    \n        Digite a opção:\n    \n        ''')\n\n    if menu == '1':\n        nome = input('Nome: ').capitalize()\n        tel = input('Telefone: ')\n        bairro = input('Bairro: ').capitalize()\n        senha = input('Senha')\n        paciente['Nome'] = nome\n        paciente['Telefone'] = tel\n        paciente['Bairro'] = bairro\n        paciente['Senha'] = senha\n        pacientes.append(paciente)\n        print(paciente)\n        del paciente\n        paciente = {}\n        print(pacientes)\n\n\n    elif menu == '2':\n        nome = input('Nome: ').capitalize()\n        tel = input('Telefone: ')\n        bairro = input('Bairro: ').capitalize()\n        senha = input('Senha')\n        psicologo['Nome'] = nome\n        psicologo['Telefone'] = tel\n        psicologo['Bairro'] = bairro\n        psicologo['Senha'] = senha\n        psicologos.append(psicologo)\n        print(psicologo)\n        del psicologo\n        psicologo = {}\n        print(psicologo)\n        print(psicologos)\n\n    elif menu == '3':\n        campo = input('''\n               Digite o número da opção que deseja :\n\n               1. Visualizar seus dados.\n               2. Visualizar dados do paciente por bairro.\n                ''')\n\n        if campo == '1':\n            ver = input('Digite sua senha: ')\n            for x in range(len(pacientes)):\n                if ver in pacientes[x]['Senha']:\n                    print(pacientes[x])\n\n        if campo == '2':\n            ver = input('Digite o bairro do paciente que deseja visualizar: ')\n            for x in range(len(pacientes)):\n                if ver in pacientes[x]['Bairro']:  #NÃO ESTÁ PRINTANDO NADA\n                    print(pacientes[x])\n                    \n\n        elif menu == '4':\n            campo = input('''\n                   Digite o número da opção que deseja :\n\n                   1. Visualizar seus dados.\n                   2. Localizar Psicólogos por bairro.\n                    ''')\n\n            if campo == '1':\n                ver = input('Digite sua senha: ')\n                for x in range(len(psicologos)):\n                    if ver in psicologos[x]['Senha']:\n                        print(psicologos[x])\n\n            if campo == '2':\n                ver = input('Digite o nome do usuário que deseja visualizar: ')\n                for x in range(len(psicologos)):\n                    if ver in psicologos[x]['Bairro']:\n                        print(psicologos[x])\n                        # FALTA APRENDER A PRINTAR APENAS NOME ,EMAIL E TELEFONE, PARA OUTROS NAO TEREM ACESSO A SENHA.\n\n    elif menu == '5':\n        print('Programa finalizado com sucesso!')\n    else:\n        print('    Digite o NÚMERO de uma das opções abaixo.')\n\n\n",
      "execution_count": null,
      "outputs": [
        {
          "output_type": "stream",
          "name": "stdout",
          "text": "\n                         HelPM\n                      Saúde Mental\n    \n        1. Cadastro de Paciente.\n        2. Cadastro de Psicólogo.\n        3. Visualizar Pacientes.\n        4. Visualizar Psicólogos.\n        5. Sair.\n    \n        Digite a opção:\n    \n        3\n\n               Digite o número da opção que deseja :\n\n               1. Visualizar seus dados.\n               2. Visualizar dados do paciente por bairro.\n                2\nDigite o bairro do paciente que deseja visualizar: manguinhos\n"
        }
      ]
    },
    {
      "metadata": {
        "trusted": true
      },
      "cell_type": "code",
      "source": "",
      "execution_count": null,
      "outputs": []
    },
    {
      "metadata": {
        "trusted": true
      },
      "cell_type": "code",
      "source": "",
      "execution_count": null,
      "outputs": []
    },
    {
      "metadata": {
        "trusted": true
      },
      "cell_type": "code",
      "source": "",
      "execution_count": null,
      "outputs": []
    }
  ],
  "metadata": {
    "kernelspec": {
      "name": "python36",
      "display_name": "Python 3.6",
      "language": "python"
    },
    "language_info": {
      "mimetype": "text/x-python",
      "nbconvert_exporter": "python",
      "name": "python",
      "pygments_lexer": "ipython3",
      "version": "3.6.6",
      "file_extension": ".py",
      "codemirror_mode": {
        "version": 3,
        "name": "ipython"
      }
    }
  },
  "nbformat": 4,
  "nbformat_minor": 2
}